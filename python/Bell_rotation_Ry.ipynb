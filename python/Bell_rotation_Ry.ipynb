{
 "cells": [
  {
   "cell_type": "code",
   "execution_count": 3,
   "metadata": {},
   "outputs": [],
   "source": [
    "import matplotlib.pyplot as plt\n",
    "import numpy as np\n",
    "#import qutip as qt\n",
    "#from scipy import ndimage, misc\n",
    "#from ifigures import *\n",
    "#from ifigures.my_plots import *\n",
    "#from mpl_toolkits.axes_grid1.inset_locator import inset_axes\n",
    "from scipy.linalg import kron, eig\n",
    "import time"
   ]
  },
  {
   "cell_type": "code",
   "execution_count": 4,
   "metadata": {},
   "outputs": [],
   "source": [
    "import matplotlib.colors as mcolors\n",
    "import colorsys\n",
    "\n",
    "\n",
    "#: Durham colour scheme\n",
    "cDUp = \"#7E317B\"  # Palatinate Purple\n",
    "cDUpp =  \"#D8ACF4\"  # Light purple\n",
    "\n",
    "cDUb = \"#006388\"  # Blue\n",
    "cDUbb = \"#91B8BD\"  # Mid Blue\n",
    "cDUbbb = \"#C4E5FA\"  # Light Blue\n",
    "cDUbbbb = \"#00AEEF\"\n",
    "\n",
    "cDUsky = \"#A5C8D0\"  # sky blue\n",
    "\n",
    "cDUo = \"#9FA161\"  # Olive Green\n",
    "\n",
    "cDUr = \"#AA2B4A\"  # Red\n",
    "cDUrr = \"#BE1E2D\"\n",
    "cDUy = \"#E8E391\" #  Yellow\n",
    "\n",
    "cDUp = \"#C43B8E\" # Pink\n",
    "\n",
    "cDUk = \"#231F20\"  # Black\n",
    "cDUkk = \"#002A41\" # ink\n",
    "\n",
    "cDUggg = \"#CFDAD1\"  # Near White/L. Grey\n",
    "cDUgg = \"#968E85\"  # Warm Grey\n",
    "cDUg = \"#6E6464\"  # midgrey"
   ]
  },
  {
   "cell_type": "code",
   "execution_count": 5,
   "metadata": {},
   "outputs": [],
   "source": [
    "def make_colormap(seq):\n",
    "    \"\"\"\n",
    "        Args:\n",
    "            seq: a sequence of floats and RGB-tuples. The floats should be\n",
    "                increasing and in the interval (0,1).\n",
    "\n",
    "        Returns:\n",
    "            a LinearSegmentedColormap\n",
    "    \"\"\"\n",
    "    seq = [(None, ) * 3, 0.0] + list(seq) + [1.0, (None, ) * 3]\n",
    "    cdict = {'red': [], 'green': [], 'blue': []}\n",
    "    for i, item in enumerate(seq):\n",
    "        if isinstance(item, float):\n",
    "            r1, g1, b1 = seq[i - 1]\n",
    "            r2, g2, b2 = seq[i + 1]\n",
    "            cdict['red'].append([item, r1, r2])\n",
    "            cdict['green'].append([item, g1, g2])\n",
    "            cdict['blue'].append([item, b1, b2])\n",
    "    return mcolors.LinearSegmentedColormap('CustomMap', cdict)\n",
    "\n",
    "\n",
    "c = mcolors.ColorConverter().to_rgb\n",
    "rvb = make_colormap([\n",
    "    c('#b20000'),\n",
    "    c('#fe7600'), 0.125,\n",
    "    c('#fe7600'),\n",
    "    c('#feca00'), 0.25,\n",
    "    c('#feca00'),\n",
    "    c('#bcfd00'), 0.375,\n",
    "    c('#bcfd00'),\n",
    "    c('#06a133'), 0.5,\n",
    "    c('#06a133'),\n",
    "    c('#00f6fd'), 0.625,\n",
    "    c('#00f6fd'),\n",
    "    c('#000cfe'), 0.75,\n",
    "    c('#000cfe'),\n",
    "    c('#e404fe'), 0.875,\n",
    "    c('#e404fe'),\n",
    "    c('#b20000')\n",
    "])\n",
    "\n",
    "\n",
    "def getColor(amplitude, phase, maxAmplitude):\n",
    "    c = rvb(phase / (2. * np.pi))\n",
    "    scale = amplitude / maxAmplitude\n",
    "    if scale > 1:\n",
    "        raise ValueError(\n",
    "            'Amplitude of the passed complex number is bigger than the'\n",
    "            ' maximal set amplitudeyter not')\n",
    "    cc = colorsys.rgb_to_hls(c[0], c[1], c[2])\n",
    "    c = colorsys.hls_to_rgb(cc[0], cc[1] + (1. - scale) * (1. - cc[1]), cc[2])\n",
    "    return (c[0], c[1], c[2], 1.0)\n",
    "\n",
    "\n",
    "def getComplexColor(complexNo, maxAmplitude):\n",
    "    \"\"\"\n",
    "    Get color for a complex numbers\n",
    "\n",
    "    Represents phase as continous colour wheel, and amplitude as intensity\n",
    "    of color (zero amplitude = white color), with linear mapping in between.\n",
    "\n",
    "    Args:\n",
    "        complexNo (complex float): complex number\n",
    "        maxAmplitude (float): maximum amplitude in the data set we want to\n",
    "            represent as colour mapped dots. This is used for normalizing color\n",
    "            intensity, going from maximal saturation or `maxAmplitude` to\n",
    "            white color for zero amplitude.\n",
    "\n",
    "    Returns:\n",
    "        color as [red, green, blue, alpha]\n",
    "    \"\"\"\n",
    "    angle = np.angle(complexNo)\n",
    "    if angle < 0:\n",
    "        angle += 2 * np.pi\n",
    "    return getColor(np.absolute(complexNo), angle, maxAmplitude)\n",
    "\n",
    "def white_to_transparency(img):\n",
    "    \"\"\"\n",
    "        Converts white areas of image to transprancy.\n",
    "    \"\"\"\n",
    "    x = np.asarray(img.convert('RGBA')).copy()\n",
    "\n",
    "    x[:, :, 3] = (255 * (x[:, :, :3] != 255).any(axis=2)).astype(np.uint8)\n",
    "\n",
    "    return Image.fromarray(x)\n"
   ]
  },
  {
   "cell_type": "code",
   "execution_count": 6,
   "metadata": {},
   "outputs": [],
   "source": [
    "def OBE(psi0,Omega,Delta,tmax,npts):\n",
    "    t=np.linspace(0,tmax,npts)\n",
    "    rho = (1.0+1.0j)*np.zeros((4,4,npts))    \n",
    "    Omeff=np.sqrt(Omega**2+Delta**2)\n",
    "    \n",
    "    nx=0\n",
    "    ny=Omega/Omeff\n",
    "    nz = Delta/Omeff\n",
    "    \n",
    "#    nx, ny, nz = 0, 1/np.sqrt(2), 1/np.sqrt(2)\n",
    "\n",
    "    for i in range(0,npts):\n",
    "        Theta=Omeff*t[i]\n",
    "        C=np.cos(Theta/2)\n",
    "        S=np.sin(Theta/2)\n",
    "        R=np.array([[C-1.j*nz*S, (-1.j*nx-ny)*S],[(-1.j*nx+ny)*S, C+1.j*nz*S] ])\n",
    "\n",
    "#        R=np.array([[C-1.j*(Delta/Omeff)*S, -(Omega/Omeff)*S],[(Omega/Omeff)*S, C+1.j*(Delta/Omeff)*S] ])\n",
    "        \n",
    "        \n",
    "        R2=kron(R,R)    \n",
    "        psi=R2.dot(psi0)   # note that   R2*psi_20 gives something different \n",
    "        norm=np.sqrt(abs(psi[0])**2+abs(psi[1])**2+abs(psi[2])**2+abs(psi[3])**2)\n",
    "        psi=psi/norm   # note that   R2*psi_20 gives something different \n",
    "        rho[:,:,i]=kron(psi,np.transpose(psi))\n",
    "#    rho[0,0,:]=np.clip(rho[0,0,:],0,1) #normalise to 1\n",
    "#    rho[3,3,:]=np.clip(rho[0,0,:],0,1) #normalise to 1\n",
    "    return rho"
   ]
  },
  {
   "cell_type": "code",
   "execution_count": 7,
   "metadata": {},
   "outputs": [
    {
     "data": {
      "image/png": "[encoded data removed]",
      "text/plain": [
       "<Figure size 1152x576 with 1 Axes>"
      ]
     },
     "metadata": {
      "needs_background": "light"
     },
     "output_type": "display_data"
    },
    {
     "name": "stdout",
     "output_type": "stream",
     "text": [
      "0.851792573928833\n"
     ]
    }
   ],
   "source": [
    "start = time.time()\n",
    "npts=800\n",
    "tmax=2.0*np.pi*1\n",
    "t=np.linspace(0,tmax,npts)\n",
    "mdim = 4 # matrix dimension\n",
    "time_dim = 17 # no. of times to plot across rows\n",
    "\n",
    "#time_dim = 40 # no. of times to plot across rows\n",
    "\n",
    "parameter_dim = 5 # no. of parameter values down columns\n",
    "\n",
    "h_dim = time_dim*(mdim+1)+1\n",
    "v_dim = parameter_dim*(mdim+1)+1\n",
    "\n",
    "R=0.85*np.ones((v_dim,h_dim))\n",
    "G=0.85*np.ones((v_dim,h_dim))\n",
    "B=0.85*np.ones((v_dim,h_dim))\n",
    "\n",
    "fig, ax=plt.subplots(figsize=(16, 8))\n",
    "\n",
    "for v_index in range(0, parameter_dim): # v_index is no. of rows\n",
    "    a00=[1.0,np.sqrt(3/4),1/np.sqrt(2),1/np.sqrt(4),0.0]\n",
    "    a11=[0.0,1/np.sqrt(4),1/np.sqrt(2),np.sqrt(3/4),1.0]\n",
    "    psi0=np.mat([[a00[v_index]],[0.0],[0.0],[a11[v_index]]])\n",
    "    Delta=0.0\n",
    "    Omega=5.0+0.000001\n",
    "    rho = OBE(psi0,Omega,Delta,tmax,npts)\n",
    "    for h_index in range(0, time_dim): # h_index is no. of columns\n",
    "        t_index=10*h_index        \n",
    "        for col in range (0,mdim):\n",
    "            for row in range (0,mdim):\n",
    "                R[(mdim+1)*v_index+1+row,(mdim+1)*h_index+1+col]=getComplexColor(rho[row,col,t_index],1.)[0]\n",
    "                G[(mdim+1)*v_index+1+row,(mdim+1)*h_index+1+col]=getComplexColor(rho[row,col,t_index],1.)[1]\n",
    "                B[(mdim+1)*v_index+1+row,(mdim+1)*h_index+1+col]=getComplexColor(rho[row,col,t_index],1.)[2]\n",
    "\n",
    "RGB=np.dstack((R, G, B))\n",
    "    \n",
    "plt.imshow(RGB)\n",
    "ax.set_axis_off() \n",
    "plt.show()\n",
    "\n",
    "end = time.time()\n",
    "print(end - start)"
   ]
  },
  {
   "cell_type": "code",
   "execution_count": 3,
   "metadata": {},
   "outputs": [],
   "source": [
    "a = np.array([[1,2j],[3j,1]])"
   ]
  },
  {
   "cell_type": "code",
   "execution_count": 14,
   "metadata": {},
   "outputs": [
    {
     "data": {
      "text/plain": [
       "array([[1.-0.j, 0.-3.j],\n",
       "       [0.-2.j, 1.-0.j]])"
      ]
     },
     "execution_count": 14,
     "metadata": {},
     "output_type": "execute_result"
    }
   ],
   "source": [
    "a.T.conj()"
   ]
  },
  {
   "cell_type": "code",
   "execution_count": 12,
   "metadata": {},
   "outputs": [
    {
     "ename": "SyntaxError",
     "evalue": "EOL while scanning string literal (<ipython-input-12-b6a83500d30a>, line 1)",
     "output_type": "error",
     "traceback": [
      "\u001b[0;36m  File \u001b[0;32m\"<ipython-input-12-b6a83500d30a>\"\u001b[0;36m, line \u001b[0;32m1\u001b[0m\n\u001b[0;31m    a'\u001b[0m\n\u001b[0m      ^\u001b[0m\n\u001b[0;31mSyntaxError\u001b[0m\u001b[0;31m:\u001b[0m EOL while scanning string literal\n"
     ]
    }
   ],
   "source": []
  },
  {
   "cell_type": "code",
   "execution_count": 4,
   "metadata": {},
   "outputs": [
    {
     "data": {
      "text/plain": [
       "array([[1, 2],\n",
       "       [2, 4]])"
      ]
     },
     "execution_count": 4,
     "metadata": {},
     "output_type": "execute_result"
    }
   ],
   "source": [
    "a = np.array([1,2])\n",
    "b = np.array([1,2])\n",
    "np.outer(a,b)"
   ]
  },
  {
   "cell_type": "code",
   "execution_count": 7,
   "metadata": {},
   "outputs": [
    {
     "data": {
      "text/plain": [
       "matrix([[1.+0.j],\n",
       "        [0.+2.j]])"
      ]
     },
     "execution_count": 7,
     "metadata": {},
     "output_type": "execute_result"
    }
   ],
   "source": [
    "np.matrix([1,2j]).T"
   ]
  },
  {
   "cell_type": "code",
   "execution_count": null,
   "metadata": {},
   "outputs": [],
   "source": []
  }
 ],
 "metadata": {
  "kernelspec": {
   "display_name": "Python 3",
   "language": "python",
   "name": "python3"
  },
  "language_info": {
   "codemirror_mode": {
    "name": "ipython",
    "version": 3
   },
   "file_extension": ".py",
   "mimetype": "text/x-python",
   "name": "python",
   "nbconvert_exporter": "python",
   "pygments_lexer": "ipython3",
   "version": "3.8.8"
  }
 },
 "nbformat": 4,
 "nbformat_minor": 4
}
