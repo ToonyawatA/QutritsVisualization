{
 "cells": [
  {
   "cell_type": "code",
   "execution_count": 1,
   "metadata": {},
   "outputs": [],
   "source": [
    "import numpy as np\n",
    "import matplotlib.pyplot as plt\n",
    "import time\n",
    "import imageio\n",
    "import os\n",
    "import glob\n",
    "from mpl_toolkits.mplot3d import Axes3D\n",
    "from scipy.integrate import odeint\n",
    "#from Ramsey_Sequence import Ramsey_Sequence"
   ]
  },
  {
   "cell_type": "code",
   "execution_count": 2,
   "metadata": {},
   "outputs": [],
   "source": [
    "class Ramsey_Sequence:\n",
    "    def __init__(self,func):\n",
    "        self.func = func\n",
    "        self.state = np.array([0.0,0.0,1.0])\n",
    "        self.time = 0.0\n",
    "        self.timearray = np.array([])\n",
    "        self.history = np.array([])\n",
    "    def evolve(self,kernel):\n",
    "        self.kernel = kernel\n",
    "        self.rabi = self.kernel.rabi\n",
    "        self.detuning = self.kernel.detuning\n",
    "        self.time_interval = self.kernel.time_interval\n",
    "        dt = 0.0001\n",
    "        timestep = int(self.time_interval/dt)+1\n",
    "        t_span = np.linspace(self.time,self.time+self.time_interval,timestep)\n",
    "        history_temp = odeint(self.func.obe,self.gcs(),t_span,args=(self.rabi,self.detuning))\n",
    "        self.history = np.append(self.history,history_temp)\n",
    "        self.history = self.history.reshape(-1,3)\n",
    "        self.state = self.history[-1,:]\n",
    "        self.time += self.time_interval\n",
    "        self.timearray = np.append(self.timearray,t_span)\n",
    "    def bloch_u(self):\n",
    "        return self.history[:,0]\n",
    "    def bloch_v(self):\n",
    "        return self.history[:,1]\n",
    "    def bloch_w(self):\n",
    "        return self.history[:,2]\n",
    "    def gcs(self):#get current state\n",
    "        return self.state\n",
    "    def gct(self):#ger current time\n",
    "        return self.time\n",
    "    def gta(self):#get time array\n",
    "        return self.timearray\n",
    "    def makePlot(self):\n",
    "        fig = plt.figure(1,facecolor='white',figsize=(5,5))\n",
    "        ax=fig.add_axes([0.0, 0.0, 1.0, 1.0])\n",
    "        ax.plot(self.gta(),self.bloch_u(),'.',color=[170.0/255.0,43.0/255.0,74.0/255.0])\n",
    "        ax.plot(self.gta(),self.bloch_v(),'.',color=[0,99.0/255.0,136.0/255.0])\n",
    "        ax.plot(self.gta(),self.bloch_w(),'.',color=[126.0/255.0,49.0/255.0,123.0/255.0])\n",
    "        plt.show()\n",
    "    def makePng(self):\n",
    "        plt.ioff() # turns off plot display\n",
    "        plt.rcParams.update({'figure.figsize':(16,16)})\n",
    "        plt.rcParams['figure.dpi'] = 50\n",
    "        # define points for Bloch sphere wire frame\n",
    "        u = np.linspace(0.0,2*np.pi,90)\n",
    "        v = np.linspace(0.0,np.pi,180)\n",
    "        lu = np.size(u)\n",
    "        lv = np.size(v)\n",
    "        x = np.zeros((lu,lv))\n",
    "        y = np.zeros((lu,lv))\n",
    "        z = np.zeros((lu,lv))\n",
    "        for uu in range(0,lu):\n",
    "            for vv in range(0,lv):\n",
    "                x[uu,vv]= np.cos(u[uu])*np.sin(v[vv])\n",
    "                y[uu,vv]= np.sin(u[uu])*np.sin(v[vv])\n",
    "                z[uu,vv]= np.cos(v[vv])\n",
    "        \n",
    "        persist=15 #no of fading out points to include\n",
    "        trans=np.arange(1.0,0.0,-1.0/(persist+1))\n",
    "                \n",
    "        tic = time.perf_counter() # make images and save as pngs             \n",
    "        for ii in range(0,persist):\n",
    "            fig = plt.figure()\n",
    "            ax=Axes3D(fig)\n",
    "            ax.axis('off')\n",
    "            ax.view_init(elev=22.5,azim=-10)\n",
    "            ax.set_xlim(-1.1,1.1)\n",
    "            ax.set_ylim(-1.1,1.1)\n",
    "            ax.set_zlim(-1.1,1.1)\n",
    "            surf = ax.plot_wireframe(x, y, z, rstride=9, cstride=15, linewidth=5, color=[159.0/255.0,161.0/255.0,97.0/255.0], alpha=0.25)\n",
    "            for jj in range(0,ii):\n",
    "                ax.scatter3D(self.bloch_u()[ii-jj],self.bloch_v()[ii-jj],self.bloch_w()[ii-jj],alpha=trans[jj]**2,c=[1.0],cmap='hsv',s=1000)\n",
    "            plt.savefig('bloch_vec_'+str(1000+ii)+'.png',format='png',dpi=30,bbox_inches='tight')\n",
    "            plt.close(fig)    \n",
    "        for ii in range(persist,len(self.gta())):\n",
    "            fig = plt.figure()\n",
    "            ax=Axes3D(fig)\n",
    "            ax.axis('off')\n",
    "            ax.view_init(elev=22.5,azim=-10)\n",
    "            ax.set_xlim(-1.1,1.1)\n",
    "            ax.set_ylim(-1.1,1.1)\n",
    "            ax.set_zlim(-1.1,1.1)\n",
    "            surf = ax.plot_wireframe(x, y, z, rstride=9, cstride=15, linewidth=5, color=[159.0/255.0,161.0/255.0,97.0/255.0],alpha=0.25)\n",
    "            for jj in range(0,persist):\n",
    "                ax.scatter3D(self.bloch_u()[ii-jj],self.bloch_v()[ii-jj],self.bloch_w()[ii-jj], alpha=trans[jj]**2,c=[1.0],cmap='hsv',s=1000)\n",
    "            plt.savefig('bloch_vec_'+str(1000+ii)+'.png',format='png',dpi=30,bbox_inches='tight')\n",
    "            plt.close(fig)\n",
    "        toc = time.perf_counter()\n",
    "        print(f\"Time to write pngs: {toc - tic:0.4f} seconds\")\n",
    "\n",
    "\n",
    "\n",
    "class optical_bloch:\n",
    "    def obe(bloch,t,omega,delta):\n",
    "        gamma=0.0\n",
    "        return np.array([-0.5*gamma*bloch[0]-delta*bloch[1],-0.5*gamma*bloch[1]+delta*bloch[0]-omega*bloch[2],-1.0*gamma*(bloch[2]-1)+omega*bloch[1]]) \n",
    "\n",
    "class halfpipulse:\n",
    "    rabi = 74.0*np.pi\n",
    "    detuning = 0.0\n",
    "    time_interval = 0.5*np.pi/np.sqrt(rabi**2 + detuning**2)\n",
    "    \n",
    "class pipulse:\n",
    "    rabi = 74.0*np.pi\n",
    "    detuning = 0.0\n",
    "    time_interval = np.pi/np.sqrt(rabi**2 + detuning**2)\n",
    "    \n",
    "class freepulse:\n",
    "    rabi = 0.0\n",
    "    detuning = 74.0*np.pi\n",
    "    time_interval = 0.1\n",
    "    \n",
    "class Hadamard:\n",
    "    rabi = 74.0*np.pi\n",
    "    detuning = 74.0*np.pi\n",
    "    time_interval = np.pi/np.sqrt(rabi**2 + detuning**2)\n",
    "    "
   ]
  },
  {
   "cell_type": "code",
   "execution_count": 7,
   "metadata": {},
   "outputs": [
    {
     "data": {
      "image/png": "[encoded data removed]",
      "text/plain": [
       "<Figure size 250x250 with 1 Axes>"
      ]
     },
     "metadata": {},
     "output_type": "display_data"
    }
   ],
   "source": [
    "pulse = Ramsey_Sequence(optical_bloch)\n",
    "pulse.evolve(Hadamard)\n",
    "pulse.evolve(freepulse)\n",
    "pulse.evolve(Hadamard)\n",
    "pulse.makePlot()"
   ]
  },
  {
   "cell_type": "code",
   "execution_count": 5,
   "metadata": {},
   "outputs": [
    {
     "name": "stdout",
     "output_type": "stream",
     "text": [
      "Time to write pngs: 272.6004 seconds\n"
     ]
    }
   ],
   "source": [
    "pulse.makePng()"
   ]
  },
  {
   "cell_type": "code",
   "execution_count": 6,
   "metadata": {},
   "outputs": [
    {
     "name": "stdout",
     "output_type": "stream",
     "text": [
      "Time to write gif: 27.4638 seconds\n",
      "Time to delete pngs: 0.0969 seconds\n"
     ]
    }
   ],
   "source": [
    "tic = time.perf_counter() # make pngs into gif\n",
    "\n",
    "def find_all_png():\n",
    "    pngs = glob.glob(\"bloch_vec_*.png\")\n",
    "    pngs.sort()\n",
    "    buf = []\n",
    "    for png in pngs:\n",
    "        buf.append(png)\n",
    "    return buf\n",
    "\n",
    "def cr_gif(image_list, gif_name):\n",
    "    frames = []\n",
    "    for image_name in image_list:\n",
    "        frames.append(imageio.imread(image_name))\n",
    "        # Save them as frames into a gif\n",
    "    imageio.mimsave(gif_name, frames, 'GIF', duration=0.05)\n",
    "\n",
    "buf = find_all_png()\n",
    "cr_gif(buf, 'ramsey.gif') \n",
    "toc = time.perf_counter()\n",
    "print(f\"Time to write gif: {toc - tic:0.4f} seconds\")\n",
    "\n",
    "tic = time.perf_counter() # delete pngs\n",
    "for f in glob.glob('bloch_vec_*.png'):\n",
    "    os.remove(f)    \n",
    "toc = time.perf_counter()\n",
    "print(f\"Time to delete pngs: {toc - tic:0.4f} seconds\")"
   ]
  },
  {
   "cell_type": "code",
   "execution_count": 10,
   "metadata": {},
   "outputs": [],
   "source": [
    "pulse1 = Ramsey_Sequence(optical_bloch)\n",
    "pulse1.evolve(halfpipulse)\n",
    "pulse1.evolve(freepulse)\n",
    "pulse1.evolve(halfpipulse)"
   ]
  },
  {
   "cell_type": "code",
   "execution_count": 12,
   "metadata": {},
   "outputs": [
    {
     "data": {
      "image/png": "[encoded data removed]",
      "text/plain": [
       "<Figure size 250x250 with 1 Axes>"
      ]
     },
     "metadata": {},
     "output_type": "display_data"
    }
   ],
   "source": [
    "pulse1.makePlot()"
   ]
  },
  {
   "cell_type": "code",
   "execution_count": 13,
   "metadata": {},
   "outputs": [
    {
     "name": "stdout",
     "output_type": "stream",
     "text": [
      "Time to write pngs: 276.3731 seconds\n"
     ]
    }
   ],
   "source": [
    "pulse1.makePng()"
   ]
  },
  {
   "cell_type": "code",
   "execution_count": 14,
   "metadata": {},
   "outputs": [
    {
     "name": "stdout",
     "output_type": "stream",
     "text": [
      "Time to write gif: 26.9679 seconds\n",
      "Time to delete pngs: 0.1628 seconds\n"
     ]
    }
   ],
   "source": [
    "tic = time.perf_counter() # make pngs into gif\n",
    "buf = find_all_png()\n",
    "cr_gif(buf, 'ramsey1.gif') \n",
    "toc = time.perf_counter()\n",
    "print(f\"Time to write gif: {toc - tic:0.4f} seconds\")\n",
    "\n",
    "tic = time.perf_counter() # delete pngs\n",
    "for f in glob.glob('bloch_vec_*.png'):\n",
    "    os.remove(f)    \n",
    "toc = time.perf_counter()\n",
    "print(f\"Time to delete pngs: {toc - tic:0.4f} seconds\")"
   ]
  },
  {
   "cell_type": "code",
   "execution_count": null,
   "metadata": {},
   "outputs": [],
   "source": []
  }
 ],
 "metadata": {
  "kernelspec": {
   "display_name": "Python 3",
   "language": "python",
   "name": "python3"
  },
  "language_info": {
   "codemirror_mode": {
    "name": "ipython",
    "version": 3
   },
   "file_extension": ".py",
   "mimetype": "text/x-python",
   "name": "python",
   "nbconvert_exporter": "python",
   "pygments_lexer": "ipython3",
   "version": "3.8.5"
  }
 },
 "nbformat": 4,
 "nbformat_minor": 4
}
